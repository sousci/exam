{
  "cells": [
    {
      "cell_type": "markdown",
      "metadata": {
        "id": "g7mUZCbMvHFU"
      },
      "source": [
        "# AI数学Ⅰ 試験問題（本試験）"
      ]
    },
    {
      "cell_type": "markdown",
      "metadata": {
        "id": "t1LlykkvoBtt"
      },
      "source": [
        "## 1.計算\n",
        "\n",
        "次の計算をするプログラムを完成させましょう。"
      ]
    },
    {
      "cell_type": "markdown",
      "metadata": {
        "id": "I7IpSCwKi3bE"
      },
      "source": [
        "① $1×2×3× ... ×8×9×10$"
      ]
    },
    {
      "cell_type": "code",
      "execution_count": null,
      "metadata": {
        "id": "aQGqGrjdi22g"
      },
      "outputs": [],
      "source": [
        "ans1 = 1\n",
        "for i in range(1, ____)\n",
        "    ans1 __ i\n",
        "print(sum)"
      ]
    },
    {
      "cell_type": "markdown",
      "metadata": {
        "id": "Ui9qNJm7i3tb"
      },
      "source": [
        "② $\\sqrt{729}÷\\sqrt{9}$"
      ]
    },
    {
      "cell_type": "code",
      "execution_count": null,
      "metadata": {
        "id": "d3y9m4UOi4CL"
      },
      "outputs": [],
      "source": [
        "ans2 = 729**(____) / 9**(____)\n",
        "print(ans2)"
      ]
    },
    {
      "cell_type": "markdown",
      "metadata": {
        "id": "c2chmTESi4Pe"
      },
      "source": [
        "③ $20240728÷31$の余り"
      ]
    },
    {
      "cell_type": "code",
      "execution_count": null,
      "metadata": {
        "id": "YJ4fgrA7i4jj"
      },
      "outputs": [],
      "source": [
        "ans3 = 20240728 _____ 31\n",
        "print(ans3)"
      ]
    },
    {
      "cell_type": "markdown",
      "metadata": {
        "id": "Y11KBdvFjB6U"
      },
      "source": [
        "④ $4(\\frac{1}{1}-\\frac{1}{3}+\\frac{1}{5}-\\frac{1}{7}+\\frac{1}{9}-...-\\frac{1}{999})$を小数点以下第2位まで  \n",
        "【ヒント】ライプニッツの公式と呼ばれる有名な級数です"
      ]
    },
    {
      "cell_type": "code",
      "execution_count": null,
      "metadata": {
        "id": "n-W8_9JajCn8"
      },
      "outputs": [],
      "source": [
        "from fractions import Fraction\n",
        "ans4 = 0\n",
        "for i in range(1, 501):\n",
        "    if i % 2 == 1: # 奇数項は+\n",
        "        ans4 ____ Fraction(1, 2*i-1)\n",
        "    else:          # 偶数項は-\n",
        "        ans4 ____ Fraction(1, 2*i-1)\n",
        "print(round(float(4 * ans4), 2))"
      ]
    },
    {
      "cell_type": "markdown",
      "metadata": {
        "id": "6gL_U5BjoukQ"
      },
      "source": [
        "## 2.関数"
      ]
    },
    {
      "cell_type": "markdown",
      "metadata": {
        "id": "DA5wQ90mjY2N"
      },
      "source": [
        "暑さ指数(WBGT)は熱中症の危険度を判断する数値として利用されています。  \n",
        "屋内におけるWBGTは、乾湿球温度計による\n",
        "- 湿球温度 $T_w$\n",
        "- 黒球温度 $T_b$\n",
        "\n",
        "の2つを、次の式で計算します。\n",
        "\n",
        "$$\n",
        "WBGT = 0.7×T_w + 0.3×T_b\n",
        "$$\n",
        "\n",
        "> 参考：『熱中症予防情報サイト』\"https://www.wbgt.env.go.jp/doc_observation.php\"\n",
        "\n",
        "WBGTを求める関数を定義し、解答に使用しましょう。\n",
        "\n",
        "① 空欄（下線部_____）を埋めて、WBGTを返す自作関数wbgt()を完成させ、小数点以下1位までで答えましょう。"
      ]
    },
    {
      "cell_type": "code",
      "execution_count": null,
      "metadata": {
        "id": "4ggpZ7RBjZMp"
      },
      "outputs": [],
      "source": [
        "def wbgt(w, b): # w:湿球、b:黒球\n",
        "    return _____________\n",
        "\n",
        "tw = 26 # 湿球温度\n",
        "tb = 27 # 黒球温度\n",
        "\n",
        "print('湿球{0}度、黒球{1}度、のとき、WBGTは{2}です'.format(tw, tb, round(wbgt(tw, tb), 1)))"
      ]
    },
    {
      "cell_type": "markdown",
      "metadata": {
        "id": "zBm-28pGjZbY"
      },
      "source": [
        "② 次の温度のとき、WBGTはいくらになりますか。小数点以下1位までで答えましょう。\n",
        "- 湿球温度：29度\n",
        "- 黒球温度：37度"
      ]
    },
    {
      "cell_type": "code",
      "execution_count": null,
      "metadata": {
        "id": "Mib8CqUrjZtE"
      },
      "outputs": [],
      "source": [
        "tw = ___ # 湿球温度\n",
        "tb = ___ # 黒球温度\n",
        "\n",
        "print('湿球{0}度、黒球{1}度、のとき、WBGTは{2}です'.format(tw, tb, round(wbgt(tw, tb), 1)))"
      ]
    },
    {
      "cell_type": "markdown",
      "metadata": {
        "id": "-GTcRlMTjZ4y"
      },
      "source": [
        "③ WBGTが28を超えると熱中症リスクが高まると言われています。WBGTの計算結果が28を超えたら警告するプログラムを完成させ、②の数値を使った結果を答えましょう。"
      ]
    },
    {
      "cell_type": "code",
      "execution_count": null,
      "metadata": {
        "id": "SzhWvNe2jaM1"
      },
      "outputs": [],
      "source": [
        "if ______ > ______:\n",
        "    print(\"熱中症に注意\") # WBGTが28を超えるとき、警告する\n",
        "else:\n",
        "    print(\"安全です\")"
      ]
    },
    {
      "cell_type": "markdown",
      "metadata": {
        "id": "uFt2mbjUp_w4"
      },
      "source": [
        "## 3.入力を受け取る\n"
      ]
    },
    {
      "cell_type": "markdown",
      "metadata": {
        "id": "dx-SG_sBj5T6"
      },
      "source": [
        "① 2つのユーザー入力を**浮動小数点型**で受け取り、その積を計算するプログラムを完成させましょう。  "
      ]
    },
    {
      "cell_type": "code",
      "execution_count": null,
      "metadata": {
        "id": "9lOK7Wlvj5kr"
      },
      "outputs": [],
      "source": [
        "a = float(________)\n",
        "b = float(________)\n",
        "print(a ___ b)"
      ]
    },
    {
      "cell_type": "markdown",
      "metadata": {
        "id": "aDfY9kmaj5yI"
      },
      "source": [
        "② 5つの数字を順番に受け取り、それらの積を表示するプログラムを完成させましょう。"
      ]
    },
    {
      "cell_type": "code",
      "execution_count": null,
      "metadata": {
        "id": "6aRTsMjHj6H5"
      },
      "outputs": [],
      "source": [
        "num = ___\n",
        "i = 0\n",
        "while(___ < 5):\n",
        "    num ___ float(input())\n",
        "    i += 1\n",
        "print(num)"
      ]
    },
    {
      "cell_type": "markdown",
      "metadata": {
        "id": "P4oQJpCCj6UK"
      },
      "source": [
        "③ 三平方の定理は直角三角形に対する定理なので、三平方の定理が成り立つときにその三角形は直角三角形であると言えます。例として`5 12 13`を入力し、これが直角三角形か判定しましょう。  \n",
        "【ヒント】スペース区切りのデータを1行で受け取るには`list(map(int, input().split()))`と書きます。"
      ]
    },
    {
      "cell_type": "code",
      "execution_count": null,
      "metadata": {
        "id": "mW0fXbaEj6l9"
      },
      "outputs": [],
      "source": [
        "triangle = list(map(int, input().split()))\n",
        "triangle.sort() # 昇順にソート\n",
        "print(triangle)\n",
        "\n",
        "if ________ + ________ == triangle[2]**2:\n",
        "    print(\"直角三角形です\")\n",
        "else:\n",
        "    print(\"直角三角形ではない\")"
      ]
    },
    {
      "cell_type": "markdown",
      "metadata": {
        "id": "fIMjUghTY_99"
      },
      "source": [
        "## 4.グラフの表示\n",
        "\n",
        "① matplotlib.pyplotを使って、次の座標データをプロットし散布図を解答欄に写しましょう。\n",
        "\n",
        "$$\n",
        "(1,1), (2,3), (4,3), (6,5), (7,4)\n",
        "$$"
      ]
    },
    {
      "cell_type": "code",
      "execution_count": null,
      "metadata": {
        "id": "P3LWnW0zkM7B"
      },
      "outputs": [],
      "source": [
        "import numpy as np\n",
        "import matplotlib.pyplot as plt\n",
        "\n",
        "x = np.array([________________])\n",
        "y = np.array([________________])\n",
        "\n",
        "plt.scatter(x, y)"
      ]
    },
    {
      "cell_type": "markdown",
      "metadata": {
        "id": "cO_VD6Pse1aU"
      },
      "source": [
        "## 5.平均・分散・標準偏差\n",
        "10名のテストの点数は次の通りです。  \n",
        "[96, 89, 70, 87, 69, 97, 100, 88, 64, 70]"
      ]
    },
    {
      "cell_type": "markdown",
      "metadata": {
        "id": "UejUABZAkQ64"
      },
      "source": [
        "① このテストの平均点を求めましょう。"
      ]
    },
    {
      "cell_type": "code",
      "execution_count": null,
      "metadata": {
        "id": "pzlX2q0GkQdx"
      },
      "outputs": [],
      "source": [
        "score = [96, 89, 70, 87, 69, 97, 100, 88, 64, 70]\n",
        "print(np.______(score))"
      ]
    },
    {
      "cell_type": "markdown",
      "metadata": {
        "id": "FmnnrPtVkRS7"
      },
      "source": [
        "② このテストの分散を求めましょう。"
      ]
    },
    {
      "cell_type": "code",
      "execution_count": null,
      "metadata": {
        "id": "OOC0uzWwkRiM"
      },
      "outputs": [],
      "source": [
        "score = [96, 89, 70, 87, 69, 97, 100, 88, 64, 70]\n",
        "print(np.______(score))"
      ]
    },
    {
      "cell_type": "markdown",
      "metadata": {
        "id": "J8hl6OCfkRuV"
      },
      "source": [
        "③ このテストの標準偏差を求めましょう。（小数点以下1位まで）"
      ]
    },
    {
      "cell_type": "code",
      "execution_count": null,
      "metadata": {
        "id": "qj_PlY3mkSPC"
      },
      "outputs": [],
      "source": [
        "score = [96, 89, 70, 87, 69, 97, 100, 88, 64, 70]\n",
        "print(np.______(score))"
      ]
    },
    {
      "cell_type": "markdown",
      "metadata": {
        "id": "iiupsx-7lC6x"
      },
      "source": [
        "## 6.相関"
      ]
    },
    {
      "cell_type": "markdown",
      "metadata": {
        "id": "IwEoY63UlI6t"
      },
      "source": [
        "①次のデータから、数学と理科の点数の相関係数を求めましょう。ただし、 $(数学の点数, 理科の点数)$とします。\n",
        "\n",
        "$$\n",
        "(74, 85), (64, 74), (34, 51) (97, 100) (67, 54)\n",
        "$$\n"
      ]
    },
    {
      "cell_type": "code",
      "execution_count": null,
      "metadata": {
        "id": "1WWtTfB6lTbT"
      },
      "outputs": [],
      "source": [
        "import numpy as np\n",
        "\n",
        "score_math = [________________]\n",
        "score_science = [________________]\n",
        "\n",
        "# NumPyのcorrcoef（相関係数）メソッドを使って相関係数を計算\n",
        "correlation_matrix = np.____________(score_math, score_science)\n",
        "\n",
        "# 相関係数を出力\n",
        "print(\"相関係数:\", round(correlation_matrix[0, 1], 2))"
      ]
    },
    {
      "cell_type": "markdown",
      "metadata": {
        "id": "z4aTZbIelXbj"
      },
      "source": [
        "## 7.SymPy\n",
        "SymPyを使って次の作業を行いましょう。"
      ]
    },
    {
      "cell_type": "markdown",
      "metadata": {
        "id": "EbmDenSSlezc"
      },
      "source": [
        "① $x^3-\\frac{3}{2}x^2y+\\frac{3}{4}xy^2-\\frac{1}{8}y^3$ の因数分解  \n",
        "※ 出力をそのまま解答せず、きれいな形で記載しても構いません"
      ]
    },
    {
      "cell_type": "code",
      "execution_count": null,
      "metadata": {
        "id": "AejIywfCl6zl"
      },
      "outputs": [],
      "source": [
        "from sympy import Symbol\n",
        "x = Symbol('x')\n",
        "y = Symbol('y')\n",
        "\n",
        "from sympy import factor\n",
        "expr1 = ___________________________\n",
        "________(expr1)"
      ]
    },
    {
      "cell_type": "markdown",
      "metadata": {
        "id": "arx8uoORl786"
      },
      "source": [
        "② $(2x-1)^3$ の展開"
      ]
    },
    {
      "cell_type": "code",
      "execution_count": null,
      "metadata": {
        "id": "WyTBsjj2l7bM"
      },
      "outputs": [],
      "source": [
        "from sympy import Symbol\n",
        "x = Symbol('x')\n",
        "\n",
        "from sympy import expand\n",
        "expr2 = ___________________________\n",
        "________(expr2)"
      ]
    },
    {
      "cell_type": "markdown",
      "metadata": {
        "id": "rDogtl_-l8X9"
      },
      "source": [
        "③ $\\frac{2x}{x+3}-\\frac{1}{7-x}=\\frac{1}{5}$ の解  \n",
        "※ 出力をそのまま解答せず、きれいな形で記載しても構いません"
      ]
    },
    {
      "cell_type": "code",
      "execution_count": null,
      "metadata": {
        "id": "HmwZbVshl8pj"
      },
      "outputs": [],
      "source": [
        "from sympy import Symbol\n",
        "x = Symbol('x')\n",
        "\n",
        "from sympy import solve\n",
        "expr3 = ___________________________\n",
        "________(expr3)"
      ]
    },
    {
      "cell_type": "markdown",
      "metadata": {
        "id": "JO3YnoUml7Lz"
      },
      "source": [
        "④ 連立方程式の解  \n",
        "$$\n",
        "\\begin{cases}\n",
        "    3a + b + c = 40 \\\\\n",
        "    7a - b + c = 36 \\\\\n",
        "    2a + 2b - 3c = -5\n",
        "  \\end{cases}\n",
        "$$"
      ]
    },
    {
      "cell_type": "code",
      "execution_count": null,
      "metadata": {
        "id": "VExNcZlJ2ZRD"
      },
      "outputs": [],
      "source": [
        "from sympy import symbols\n",
        "a, b, c = symbols('a, b, c')\n",
        "\n",
        "from sympy import solve\n",
        "expr4_1 = 3*a + b + c - 40\n",
        "expr4_2 = ______________________\n",
        "expr4_3 = ______________________\n",
        "\n",
        "________((________,________,________))"
      ]
    },
    {
      "cell_type": "markdown",
      "metadata": {
        "id": "5PEcHgq96PLC"
      },
      "source": [
        "## 8.集合"
      ]
    },
    {
      "cell_type": "markdown",
      "metadata": {
        "id": "6p44itym6PIO"
      },
      "source": [
        "① 集合Aは2から10までの偶数を、集合Bは2から10までの3の倍数を格納し、その積集合(intersect)を求めましょう。"
      ]
    },
    {
      "cell_type": "code",
      "execution_count": null,
      "metadata": {
        "id": "6pJwaxlr6sAx"
      },
      "outputs": [],
      "source": [
        "from sympy import FiniteSet\n",
        "a = FiniteSet(____________)\n",
        "b = FiniteSet(____________)\n",
        "\n",
        "a.________(b)"
      ]
    },
    {
      "cell_type": "markdown",
      "metadata": {
        "id": "KKUCtyBJPouL"
      },
      "source": [
        "② 集合Aと集合Bの和集合(union)を求めましょう。"
      ]
    },
    {
      "cell_type": "code",
      "execution_count": null,
      "metadata": {
        "id": "BSWCTvIv7QBh"
      },
      "outputs": [],
      "source": [
        "from sympy import FiniteSet\n",
        "a = FiniteSet(____________)\n",
        "b = FiniteSet(____________)\n",
        "\n",
        "a.________(b)"
      ]
    },
    {
      "cell_type": "markdown",
      "metadata": {
        "id": "QMeP8j0p7lUb"
      },
      "source": [
        "② 集合Aと集合Bの積集合から、べき集合を求めましょう。"
      ]
    },
    {
      "cell_type": "code",
      "execution_count": null,
      "metadata": {
        "id": "GTOHw81d_m6k"
      },
      "outputs": [],
      "source": [
        "from sympy import FiniteSet\n",
        "a = FiniteSet(____________)\n",
        "b = FiniteSet(____________)\n",
        "\n",
        "\n",
        "a.________(b).________()"
      ]
    },
    {
      "cell_type": "markdown",
      "metadata": {
        "id": "kOqi_9TvA-yU"
      },
      "source": [
        "## 9.確率"
      ]
    },
    {
      "cell_type": "markdown",
      "metadata": {
        "id": "AyeCP3yABAYE"
      },
      "source": [
        "① 次のルールのゲームで得られる得点の期待値を求めましょう。\n",
        "- 勝ち：+1pt\n",
        "- 負け：-1pt\n",
        "- あいこ：0pt\n",
        "\n",
        "ただし、勝ち・負け・あいこの確率はいずれも同様とする。"
      ]
    },
    {
      "cell_type": "code",
      "execution_count": null,
      "metadata": {
        "id": "-dFd7kwEA-j5"
      },
      "outputs": [],
      "source": [
        "e = __________________\n",
        "print(\"期待値：\", e)"
      ]
    },
    {
      "cell_type": "markdown",
      "metadata": {
        "id": "kV8wqEN4WXZm"
      },
      "source": [
        "② $-1\\leq x \\leq 1 , -1\\leq y \\leq 1$の範囲の正方形領域にランダムにプロットをしていく。このうち、単位円の内側($\\sqrt{x^2+y^2} \\leq 1$)にプロットされる確率を小数第2位まで求めましょう。"
      ]
    },
    {
      "cell_type": "code",
      "execution_count": null,
      "metadata": {
        "id": "nJyAxEk0WLPL"
      },
      "outputs": [],
      "source": [
        "import numpy as np\n",
        "\n",
        "# 正方領域の面積\n",
        "squared = ________\n",
        "\n",
        "# 単位円の面積\n",
        "unit_circle = ________\n",
        "\n",
        "print(\"確率：\", round(unit_circle / squared, 2))"
      ]
    },
    {
      "cell_type": "markdown",
      "metadata": {
        "id": "-NtgiXFIZKDp"
      },
      "source": [
        "③ ②の場合をシミュレーションし、確率を求めましょう。"
      ]
    },
    {
      "cell_type": "code",
      "execution_count": null,
      "metadata": {
        "id": "6mDGkkJCZVGl"
      },
      "outputs": [],
      "source": [
        "import matplotlib.pyplot as plt\n",
        "import numpy as np\n",
        "\n",
        "point_num = 1000000\n",
        "\n",
        "# 乱数生成\n",
        "x = np.random.uniform(-1, 1, point_num)\n",
        "y = np.random.uniform(-1, 1, point_num)\n",
        "\n",
        "# 単位円の内側の点の数をカウント\n",
        "inside_quadrant = np.sum(______________________)\n",
        "\n",
        "# 結果表示\n",
        "print(round(inside_quadrant / point_num, 2))"
      ]
    },
    {
      "cell_type": "markdown",
      "metadata": {
        "id": "CrCLZcHQbkhb"
      },
      "source": [
        "## 10.極限"
      ]
    },
    {
      "cell_type": "markdown",
      "metadata": {
        "id": "QztKNXKsbmwj"
      },
      "source": [
        "① matplotlib.pyplotを使って関数$f(x) = x^2 - x$ のグラフを出力し、解答欄に写しましょう。  "
      ]
    },
    {
      "cell_type": "code",
      "execution_count": null,
      "metadata": {
        "id": "afjvut6TcdZ2"
      },
      "outputs": [],
      "source": [
        "import numpy as np\n",
        "import matplotlib.pyplot as plt\n",
        "\n",
        "def f(x):\n",
        "    return _______________________\n",
        "\n",
        "# x の範囲を設定\n",
        "x = np.linspace(-3, 3, 400)\n",
        "\n",
        "# 関数値を計算\n",
        "y = f(x)\n",
        "\n",
        "# グラフをプロット\n",
        "plt.plot(x, y, label='$f(x) = x^2 - 2x$')\n",
        "plt.xlabel('x')\n",
        "plt.ylabel('f(x)')\n",
        "plt.legend()\n",
        "plt.grid(True)\n",
        "plt.show()\n"
      ]
    },
    {
      "cell_type": "markdown",
      "metadata": {
        "id": "p0kltgLqdLRw"
      },
      "source": [
        "② 関数$f(x) = x^2 - x$ の極限$(x→1)$を求めましょう。"
      ]
    },
    {
      "cell_type": "code",
      "execution_count": null,
      "metadata": {
        "id": "nQ1s_Pzydd04"
      },
      "outputs": [],
      "source": [
        "from sympy import Limit, Symbol, S\n",
        "x = Symbol('x')\n",
        "\n",
        "Limit(___, ___, ___).doit()"
      ]
    },
    {
      "cell_type": "markdown",
      "metadata": {
        "id": "VbQyp2v8eIKo"
      },
      "source": [
        "③ $x$を変化させて$f(x)$が最小となる$x$を求めましょう。ただし、次の条件で実行してください。\n",
        "- $x$の初期値：0\n",
        "- $x$の変化量$Δx$：\n",
        "- 繰り返しを終了する$Δx$の最小の変化量$ε$：0.00001"
      ]
    },
    {
      "cell_type": "code",
      "execution_count": null,
      "metadata": {
        "id": "8E05I2zfeUXB"
      },
      "outputs": [],
      "source": [
        "def f(x):\n",
        "    return _______________________\n",
        "\n",
        "x = ________\n",
        "delta_x = ________\n",
        "epsilon = ________\n",
        "\n",
        "# ① 好きな数をxに代入して始める x=0\n",
        "x = 0\n",
        "delta_x = 0.01\n",
        "epsilon = 1e-5 # 0.00001\n",
        "\n",
        "while(1): # breakされるまで無限ループ\n",
        "    # ② 好きな数をdelta_xだけ変化させてf(x)が減少するか見る。\n",
        "    if f(x) - f(x + delta_x) > 0: # f(x)の方が大きければ、f(x)→f(x+delta_x)で減少したと解釈できる\n",
        "        if f(x) - f(x + delta_x) < epsilon:\n",
        "            break # 変化がεより小さければ、繰り返しから脱出\n",
        "        else:\n",
        "            x = x + delta_x # xの値をdelta_xだけ更新\n",
        "\n",
        "    # ③ 減少しなければ、-delta_xだけ変化させる\n",
        "    else:\n",
        "        if f(x) - f(x - delta_x) < epsilon:\n",
        "            break # 変化がεより小さければ、繰り返しから脱出\n",
        "        else:\n",
        "            x = x - delta_x # xの値をdelta_xだけ更新\n",
        "\n",
        "print(\"f(x)が最小となるxは\", round(x, 2), \"です。このときのf(x)は\", f(x),\"です\")"
      ]
    },
    {
      "cell_type": "markdown",
      "metadata": {},
      "source": [
        "## ボーナス問題\n",
        "\n",
        "① matplotlib.pyplotを使って$f(x)=-0.2x^4+0.3x^3+x^2-0.4x$ のグラフ $(-3 \\leq x \\leq 3)$ を表示し、解答欄に写しましょう。\n",
        "\n",
        "② ①のように、グラフに極値が2つ（うち右側が最大値）ある場合、問題10のようなプログラムだと左側の極値を最大と選んでしまいます。これを回避するアイデアを1つ挙げましょう。"
      ]
    },
    {
      "cell_type": "markdown",
      "metadata": {
        "id": "T-S7b5wXb4Yt"
      },
      "source": [
        "---\n",
        "\n",
        "# 解答用紙"
      ]
    },
    {
      "cell_type": "markdown",
      "metadata": {
        "id": "Aki0r0SUb--F"
      },
      "source": [
        "### 解答方法\n",
        "問題のプログラムを完成させて実行し、その出力を記載してください。  \n",
        "AI数学演習Ⅰのレポート課題と同じ形式ですが、数字などが異なっているものがあるので注意してください。"
      ]
    },
    {
      "cell_type": "markdown",
      "metadata": {
        "id": "Zzor-huKcIRR"
      },
      "source": [
        "## 1.計算\n",
        "|問題番号|解答（Pythonの出力した結果を記載する）&emsp;&emsp;&emsp;&emsp;&emsp;&emsp;&emsp;&emsp;&emsp;&emsp;&emsp;&emsp;&emsp;&emsp;&emsp;&emsp;&emsp;&emsp;&emsp;&emsp;&emsp;&emsp;&emsp;&emsp;&emsp;|\n",
        "|:-:|:-:|\n",
        "|<br> ① <br>&nbsp;||\n",
        "|<br> ② <br>&nbsp;||\n",
        "|<br> ③ <br>&nbsp;||\n",
        "|<br> ④ <br>&nbsp;||\n",
        "\n",
        "## 2.関数\n",
        "|問題番号|解答（Pythonの出力した結果を記載する）&emsp;&emsp;&emsp;&emsp;&emsp;&emsp;&emsp;&emsp;&emsp;&emsp;&emsp;&emsp;&emsp;&emsp;&emsp;&emsp;&emsp;&emsp;&emsp;&emsp;&emsp;&emsp;&emsp;&emsp;&emsp;|\n",
        "|:-:|:-:|\n",
        "|<br> ① <br>&nbsp;||\n",
        "|<br> ② <br>&nbsp;||\n",
        "|<br> ③ <br>&nbsp;||\n",
        "\n",
        "## 3.入力を受け取る\n",
        "|問題番号|解答（Pythonの出力した結果を記載する）&emsp;&emsp;&emsp;&emsp;&emsp;&emsp;&emsp;&emsp;&emsp;&emsp;&emsp;&emsp;&emsp;&emsp;&emsp;&emsp;&emsp;&emsp;&emsp;&emsp;&emsp;&emsp;&emsp;&emsp;&emsp;|\n",
        "|:-:|:-:|\n",
        "|<br> ① <br>&nbsp;||\n",
        "|<br> ② <br>&nbsp;||\n",
        "|<br> ③ <br>&nbsp;||\n",
        "\n",
        "## 4.グラフの表示\n",
        "下の余白に散布図を記載すること\n",
        "<br><br><br><br><br><br><br><br><br><br><br><br><br><br><br><br><br><br>\n",
        "\n",
        "## 5.平均・分散・標準偏差\n",
        "|問題番号|解答（Pythonの出力した結果を記載する）&emsp;&emsp;&emsp;&emsp;&emsp;&emsp;&emsp;&emsp;&emsp;&emsp;&emsp;&emsp;&emsp;&emsp;&emsp;&emsp;&emsp;&emsp;&emsp;&emsp;&emsp;&emsp;&emsp;&emsp;&emsp;|\n",
        "|:-:|:-:|\n",
        "|<br> ① <br>&nbsp;||\n",
        "|<br> ② <br>&nbsp;||\n",
        "|<br> ③ <br>&nbsp;||\n",
        "\n",
        "## 6.相関\n",
        "|問題番号|解答（Pythonの出力した結果を記載する）&emsp;&emsp;&emsp;&emsp;&emsp;&emsp;&emsp;&emsp;&emsp;&emsp;&emsp;&emsp;&emsp;&emsp;&emsp;&emsp;&emsp;&emsp;&emsp;&emsp;&emsp;&emsp;&emsp;&emsp;&emsp;|\n",
        "|:-:|:-:|\n",
        "|<br> ① <br>&nbsp;||\n",
        "\n",
        "## 7.SymPy\n",
        "|問題番号|解答（Pythonの出力した結果を記載する）&emsp;&emsp;&emsp;&emsp;&emsp;&emsp;&emsp;&emsp;&emsp;&emsp;&emsp;&emsp;&emsp;&emsp;&emsp;&emsp;&emsp;&emsp;&emsp;&emsp;&emsp;&emsp;&emsp;&emsp;&emsp; |\n",
        "|:-:|:-:|\n",
        "|<br> ① <br>&nbsp;||\n",
        "|<br> ② <br>&nbsp;||\n",
        "|<br> ③ <br>&nbsp;||\n",
        "|<br> ④ <br>&nbsp;||\n",
        "\n",
        "## 8.集合\n",
        "|問題番号|解答（Pythonの出力した結果を記載する）&emsp;&emsp;&emsp;&emsp;&emsp;&emsp;&emsp;&emsp;&emsp;&emsp;&emsp;&emsp;&emsp;&emsp;&emsp;&emsp;&emsp;&emsp;&emsp;&emsp;&emsp;&emsp;&emsp;&emsp;&emsp; |\n",
        "|:-:|:-:|\n",
        "|<br> ① <br>&nbsp;||\n",
        "|<br> ② <br>&nbsp;||\n",
        "|<br> ③ <br>&nbsp;||\n",
        "\n",
        "## 9.確率\n",
        "|問題番号|解答（Pythonの出力した結果を記載する）&emsp;&emsp;&emsp;&emsp;&emsp;&emsp;&emsp;&emsp;&emsp;&emsp;&emsp;&emsp;&emsp;&emsp;&emsp;&emsp;&emsp;&emsp;&emsp;&emsp;&emsp;&emsp;&emsp;&emsp;&emsp; |\n",
        "|:-:|:-:|\n",
        "|<br> ① <br>&nbsp;||\n",
        "|<br> ② <br>&nbsp;||\n",
        "|<br> ③ <br>&nbsp;||\n",
        "\n",
        "## 10.極限\n",
        "|問題番号|解答（Pythonの出力した結果を記載する）&emsp;&emsp;&emsp;&emsp;&emsp;&emsp;&emsp;&emsp;&emsp;&emsp;&emsp;&emsp;&emsp;&emsp;&emsp;&emsp;&emsp;&emsp;&emsp;&emsp;&emsp;&emsp;&emsp;&emsp;&emsp; |\n",
        "|:-:|:-:|\n",
        "|<br> ① <br>&nbsp;|グラフを記入<br><br><br><br><br><br><br><br><br><br><br><br><br>|\n",
        "|<br> ② <br>&nbsp;||\n",
        "|<br> ③ <br>&nbsp;||\n",
        "\n",
        "## ボーナス問題（10点）\n",
        "※試験の素点は100点を上限とします。例えば、1~10で95点、ボーナス問題が10点の場合、試験の素点は100点になります。\n",
        "\n",
        "|問題番号|解答（Pythonの出力した結果を記載する）&emsp;&emsp;&emsp;&emsp;&emsp;&emsp;&emsp;&emsp;&emsp;&emsp;&emsp;&emsp;&emsp;&emsp;&emsp;&emsp;&emsp;&emsp;&emsp;&emsp;&emsp;&emsp;&emsp;&emsp;&emsp; |\n",
        "|:-:|:-:|\n",
        "|<br> ① <br>&nbsp;|グラフを記入<br><br><br><br><br><br><br><br><br><br><br><br><br>|\n",
        "|<br> ② <br>&nbsp;|<br><br><br><br>|\n",
        "\n"
      ]
    },
    {
      "cell_type": "markdown",
      "metadata": {},
      "source": []
    }
  ],
  "metadata": {
    "colab": {
      "provenance": []
    },
    "kernelspec": {
      "display_name": "Python 3",
      "name": "python3"
    },
    "language_info": {
      "codemirror_mode": {
        "name": "ipython",
        "version": 3
      },
      "file_extension": ".py",
      "mimetype": "text/x-python",
      "name": "python",
      "nbconvert_exporter": "python",
      "pygments_lexer": "ipython3",
      "version": "3.9.13"
    }
  },
  "nbformat": 4,
  "nbformat_minor": 0
}
